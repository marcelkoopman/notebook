{
 "cells": [
  {
   "cell_type": "code",
   "execution_count": 10,
   "id": "d604ff49-4853-4398-aafc-05fa46c2b993",
   "metadata": {
    "tags": []
   },
   "outputs": [
    {
     "name": "stdout",
     "output_type": "stream",
     "text": [
      "Requirement already satisfied: pandas in /srv/conda/envs/notebook/lib/python3.10/site-packages (2.0.2)\n",
      "Requirement already satisfied: python-dateutil>=2.8.2 in /srv/conda/envs/notebook/lib/python3.10/site-packages (from pandas) (2.8.2)\n",
      "Requirement already satisfied: pytz>=2020.1 in /srv/conda/envs/notebook/lib/python3.10/site-packages (from pandas) (2023.3)\n",
      "Requirement already satisfied: tzdata>=2022.1 in /srv/conda/envs/notebook/lib/python3.10/site-packages (from pandas) (2023.3)\n",
      "Requirement already satisfied: numpy>=1.21.0 in /srv/conda/envs/notebook/lib/python3.10/site-packages (from pandas) (1.24.3)\n",
      "Requirement already satisfied: six>=1.5 in /srv/conda/envs/notebook/lib/python3.10/site-packages (from python-dateutil>=2.8.2->pandas) (1.16.0)\n",
      "Note: you may need to restart the kernel to use updated packages.\n"
     ]
    }
   ],
   "source": [
    "pip install pandas\n"
   ]
  },
  {
   "cell_type": "code",
   "execution_count": 2,
   "id": "fe38b101-28af-47b7-a9ea-656f3b56ec3c",
   "metadata": {
    "tags": []
   },
   "outputs": [],
   "source": [
    "import pandas as pd\n"
   ]
  },
  {
   "cell_type": "code",
   "execution_count": 14,
   "id": "9eac21d2-5905-495d-a225-1aba94de3fa7",
   "metadata": {
    "tags": []
   },
   "outputs": [],
   "source": [
    "def extract():\n",
    "    return pd.read_csv(\"https://raw.githubusercontent.com/marcelkoopman/notebook/main/vakgroep.csv\", sep=';');"
   ]
  },
  {
   "cell_type": "code",
   "execution_count": null,
   "id": "5f113f0f-e67c-4c4c-98e4-2e132e6b6f4a",
   "metadata": {},
   "outputs": [],
   "source": []
  },
  {
   "cell_type": "code",
   "execution_count": null,
   "id": "f0569687-5746-481f-9066-e46aaec23fce",
   "metadata": {},
   "outputs": [],
   "source": []
  },
  {
   "cell_type": "code",
   "execution_count": 12,
   "id": "0fb11da3-125c-4eea-953b-986eec1353c9",
   "metadata": {
    "tags": []
   },
   "outputs": [],
   "source": [
    "def totaal(df):\n",
    "    return len(df);"
   ]
  },
  {
   "cell_type": "code",
   "execution_count": null,
   "id": "55a60714-1029-4da7-959c-7a01ae275408",
   "metadata": {},
   "outputs": [],
   "source": []
  },
  {
   "cell_type": "code",
   "execution_count": 5,
   "id": "32e14d44-76f6-4755-b911-76a8eb7479f2",
   "metadata": {
    "tags": []
   },
   "outputs": [],
   "source": [
    "def totaal_intern(df):\n",
    "    intern_df = df[df['Dienstverband'].str.match('Intern', na=False)]\n",
    "    return len(intern_df)"
   ]
  },
  {
   "cell_type": "code",
   "execution_count": 6,
   "id": "a8e19555-c259-425c-bf57-8e164095ddda",
   "metadata": {
    "tags": []
   },
   "outputs": [],
   "source": [
    "def totaal_extern(df):\n",
    "    extern_df = df[df['Dienstverband'].str.match('Extern', na=False)]\n",
    "    return len(extern_df)"
   ]
  },
  {
   "cell_type": "code",
   "execution_count": 15,
   "id": "3c35eb2a-6cd2-46d1-8354-d92c54bc919e",
   "metadata": {
    "tags": []
   },
   "outputs": [
    {
     "data": {
      "text/html": [
       "<div>\n",
       "<style scoped>\n",
       "    .dataframe tbody tr th:only-of-type {\n",
       "        vertical-align: middle;\n",
       "    }\n",
       "\n",
       "    .dataframe tbody tr th {\n",
       "        vertical-align: top;\n",
       "    }\n",
       "\n",
       "    .dataframe thead th {\n",
       "        text-align: right;\n",
       "    }\n",
       "</style>\n",
       "<table border=\"1\" class=\"dataframe\">\n",
       "  <thead>\n",
       "    <tr style=\"text-align: right;\">\n",
       "      <th></th>\n",
       "      <th>Workday Employee ID</th>\n",
       "      <th>Voornaam</th>\n",
       "      <th>Achternaam</th>\n",
       "      <th>Geslacht</th>\n",
       "      <th>Functieniveau</th>\n",
       "      <th>Dienstverband</th>\n",
       "      <th>Team</th>\n",
       "    </tr>\n",
       "  </thead>\n",
       "  <tbody>\n",
       "    <tr>\n",
       "      <th>0</th>\n",
       "      <td>356400.0</td>\n",
       "      <td>Alex</td>\n",
       "      <td>Oldenburger</td>\n",
       "      <td>M</td>\n",
       "      <td>Senior</td>\n",
       "      <td>Extern</td>\n",
       "      <td>Docters</td>\n",
       "    </tr>\n",
       "    <tr>\n",
       "      <th>1</th>\n",
       "      <td>350857.0</td>\n",
       "      <td>Marco</td>\n",
       "      <td>Hak</td>\n",
       "      <td>M</td>\n",
       "      <td>Senior</td>\n",
       "      <td>Extern</td>\n",
       "      <td>Shared services</td>\n",
       "    </tr>\n",
       "    <tr>\n",
       "      <th>2</th>\n",
       "      <td>357856.0</td>\n",
       "      <td>Arjen</td>\n",
       "      <td>Vermaas</td>\n",
       "      <td>M</td>\n",
       "      <td>Senior</td>\n",
       "      <td>Extern</td>\n",
       "      <td>TDS</td>\n",
       "    </tr>\n",
       "    <tr>\n",
       "      <th>3</th>\n",
       "      <td>3.0</td>\n",
       "      <td>Masudul</td>\n",
       "      <td>Haque</td>\n",
       "      <td>M</td>\n",
       "      <td>Senior</td>\n",
       "      <td>Extern</td>\n",
       "      <td>Beleggingen</td>\n",
       "    </tr>\n",
       "    <tr>\n",
       "      <th>4</th>\n",
       "      <td>5.0</td>\n",
       "      <td>Dick</td>\n",
       "      <td>Visser</td>\n",
       "      <td>M</td>\n",
       "      <td>Senior</td>\n",
       "      <td>Extern</td>\n",
       "      <td>Beleggingen</td>\n",
       "    </tr>\n",
       "    <tr>\n",
       "      <th>5</th>\n",
       "      <td>10.0</td>\n",
       "      <td>Marc</td>\n",
       "      <td>Kwant, de</td>\n",
       "      <td>M</td>\n",
       "      <td>Senior</td>\n",
       "      <td>Extern</td>\n",
       "      <td>GenP</td>\n",
       "    </tr>\n",
       "    <tr>\n",
       "      <th>6</th>\n",
       "      <td>11.0</td>\n",
       "      <td>Kees</td>\n",
       "      <td>Vlak</td>\n",
       "      <td>M</td>\n",
       "      <td>Senior</td>\n",
       "      <td>Extern</td>\n",
       "      <td>Ipde</td>\n",
       "    </tr>\n",
       "    <tr>\n",
       "      <th>7</th>\n",
       "      <td>350871.0</td>\n",
       "      <td>Sietse</td>\n",
       "      <td>Fennema</td>\n",
       "      <td>M</td>\n",
       "      <td>Medior</td>\n",
       "      <td>Intern</td>\n",
       "      <td>UPA</td>\n",
       "    </tr>\n",
       "    <tr>\n",
       "      <th>8</th>\n",
       "      <td>325270.0</td>\n",
       "      <td>Rudi</td>\n",
       "      <td>Kruizinga</td>\n",
       "      <td>M</td>\n",
       "      <td>Senior</td>\n",
       "      <td>Intern</td>\n",
       "      <td>PPDA</td>\n",
       "    </tr>\n",
       "    <tr>\n",
       "      <th>9</th>\n",
       "      <td>325420.0</td>\n",
       "      <td>Ard</td>\n",
       "      <td>Kooi</td>\n",
       "      <td>M</td>\n",
       "      <td>Senior</td>\n",
       "      <td>Intern</td>\n",
       "      <td>Beleggingen</td>\n",
       "    </tr>\n",
       "    <tr>\n",
       "      <th>10</th>\n",
       "      <td>326312.0</td>\n",
       "      <td>Desiree</td>\n",
       "      <td>Croes</td>\n",
       "      <td>V</td>\n",
       "      <td>Medior</td>\n",
       "      <td>Intern</td>\n",
       "      <td>GenP</td>\n",
       "    </tr>\n",
       "    <tr>\n",
       "      <th>11</th>\n",
       "      <td>349886.0</td>\n",
       "      <td>Arjan</td>\n",
       "      <td>Putten, van</td>\n",
       "      <td>M</td>\n",
       "      <td>Senior</td>\n",
       "      <td>Intern</td>\n",
       "      <td>Shared services</td>\n",
       "    </tr>\n",
       "    <tr>\n",
       "      <th>12</th>\n",
       "      <td>352127.0</td>\n",
       "      <td>Guus</td>\n",
       "      <td>Dag, voor den</td>\n",
       "      <td>M</td>\n",
       "      <td>Senior</td>\n",
       "      <td>Intern</td>\n",
       "      <td>Aanspraak</td>\n",
       "    </tr>\n",
       "    <tr>\n",
       "      <th>13</th>\n",
       "      <td>348888.0</td>\n",
       "      <td>Patricia</td>\n",
       "      <td>Orriens-Spuij</td>\n",
       "      <td>V</td>\n",
       "      <td>Medior</td>\n",
       "      <td>Intern</td>\n",
       "      <td>Juppiter</td>\n",
       "    </tr>\n",
       "    <tr>\n",
       "      <th>14</th>\n",
       "      <td>17.0</td>\n",
       "      <td>Virna</td>\n",
       "      <td>Ridderbos</td>\n",
       "      <td>V</td>\n",
       "      <td>Junior</td>\n",
       "      <td>Intern</td>\n",
       "      <td>Shared services</td>\n",
       "    </tr>\n",
       "    <tr>\n",
       "      <th>15</th>\n",
       "      <td>18.0</td>\n",
       "      <td>Taeke</td>\n",
       "      <td>Nutma</td>\n",
       "      <td>M</td>\n",
       "      <td>Medior/Senior</td>\n",
       "      <td>Intern</td>\n",
       "      <td>Beleggingen</td>\n",
       "    </tr>\n",
       "    <tr>\n",
       "      <th>16</th>\n",
       "      <td>NaN</td>\n",
       "      <td>Iyad</td>\n",
       "      <td>Saffaf</td>\n",
       "      <td>M</td>\n",
       "      <td>Senior</td>\n",
       "      <td>Intern</td>\n",
       "      <td>Recht</td>\n",
       "    </tr>\n",
       "    <tr>\n",
       "      <th>17</th>\n",
       "      <td>NaN</td>\n",
       "      <td>Jorian</td>\n",
       "      <td>Koning</td>\n",
       "      <td>M</td>\n",
       "      <td>Junior</td>\n",
       "      <td>Intern</td>\n",
       "      <td>GenP</td>\n",
       "    </tr>\n",
       "  </tbody>\n",
       "</table>\n",
       "</div>"
      ],
      "text/plain": [
       "    Workday Employee ID  Voornaam     Achternaam Geslacht  Functieniveau  \\\n",
       "0              356400.0      Alex    Oldenburger        M         Senior   \n",
       "1              350857.0     Marco            Hak        M         Senior   \n",
       "2              357856.0     Arjen        Vermaas        M         Senior   \n",
       "3                   3.0   Masudul          Haque        M         Senior   \n",
       "4                   5.0      Dick         Visser        M         Senior   \n",
       "5                  10.0      Marc      Kwant, de        M         Senior   \n",
       "6                  11.0      Kees           Vlak        M         Senior   \n",
       "7              350871.0    Sietse        Fennema        M         Medior   \n",
       "8              325270.0      Rudi      Kruizinga        M         Senior   \n",
       "9              325420.0       Ard           Kooi        M         Senior   \n",
       "10             326312.0   Desiree          Croes        V         Medior   \n",
       "11             349886.0     Arjan    Putten, van        M         Senior   \n",
       "12             352127.0      Guus  Dag, voor den        M         Senior   \n",
       "13             348888.0  Patricia  Orriens-Spuij        V         Medior   \n",
       "14                 17.0     Virna      Ridderbos        V         Junior   \n",
       "15                 18.0     Taeke          Nutma        M  Medior/Senior   \n",
       "16                  NaN      Iyad         Saffaf        M         Senior   \n",
       "17                  NaN    Jorian         Koning        M         Junior   \n",
       "\n",
       "   Dienstverband             Team  \n",
       "0         Extern          Docters  \n",
       "1         Extern  Shared services  \n",
       "2         Extern              TDS  \n",
       "3         Extern      Beleggingen  \n",
       "4         Extern      Beleggingen  \n",
       "5         Extern             GenP  \n",
       "6         Extern             Ipde  \n",
       "7         Intern              UPA  \n",
       "8         Intern             PPDA  \n",
       "9         Intern      Beleggingen  \n",
       "10        Intern             GenP  \n",
       "11        Intern  Shared services  \n",
       "12        Intern        Aanspraak  \n",
       "13        Intern         Juppiter  \n",
       "14        Intern  Shared services  \n",
       "15        Intern      Beleggingen  \n",
       "16        Intern            Recht  \n",
       "17        Intern             GenP  "
      ]
     },
     "execution_count": 15,
     "metadata": {},
     "output_type": "execute_result"
    }
   ],
   "source": [
    "extract()"
   ]
  },
  {
   "cell_type": "code",
   "execution_count": null,
   "id": "03ea0577-264a-48a1-817b-7ec86bc037b4",
   "metadata": {},
   "outputs": [],
   "source": []
  },
  {
   "cell_type": "code",
   "execution_count": null,
   "id": "8eb1295b-afec-44bd-be29-af2aca4155fb",
   "metadata": {},
   "outputs": [],
   "source": []
  },
  {
   "cell_type": "code",
   "execution_count": null,
   "id": "ff792000-34e3-480f-bfb1-43df9562ae3e",
   "metadata": {},
   "outputs": [],
   "source": []
  },
  {
   "cell_type": "code",
   "execution_count": null,
   "id": "d3fa0211-4edd-49bf-834c-746bef764a69",
   "metadata": {},
   "outputs": [],
   "source": []
  },
  {
   "cell_type": "code",
   "execution_count": null,
   "id": "8f5540ad-4f67-4eea-ab66-85b899752b15",
   "metadata": {
    "tags": []
   },
   "outputs": [],
   "source": [
    "df = extract();\n",
    "totaal(df);"
   ]
  },
  {
   "cell_type": "code",
   "execution_count": null,
   "id": "07a7807e-f031-46c7-94e9-6ddd466bbcce",
   "metadata": {
    "tags": []
   },
   "outputs": [],
   "source": [
    "print(totaal_extern(df))"
   ]
  },
  {
   "cell_type": "code",
   "execution_count": null,
   "id": "eb667ef3-c2cf-4c33-ae0e-9d68e3ef3a95",
   "metadata": {
    "tags": []
   },
   "outputs": [],
   "source": [
    "print(totaal_intern(df));"
   ]
  },
  {
   "cell_type": "code",
   "execution_count": null,
   "id": "064d4393-60ae-41c2-b905-3d1fff838bc8",
   "metadata": {
    "tags": []
   },
   "outputs": [],
   "source": [
    "print(totaal(df));"
   ]
  }
 ],
 "metadata": {
  "kernelspec": {
   "display_name": "Python 3 (ipykernel)",
   "language": "python",
   "name": "python3"
  },
  "language_info": {
   "codemirror_mode": {
    "name": "ipython",
    "version": 3
   },
   "file_extension": ".py",
   "mimetype": "text/x-python",
   "name": "python",
   "nbconvert_exporter": "python",
   "pygments_lexer": "ipython3",
   "version": "3.10.11"
  }
 },
 "nbformat": 4,
 "nbformat_minor": 5
}
